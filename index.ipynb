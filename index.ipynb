{
 "cells": [
  {
   "cell_type": "code",
   "execution_count": null,
   "metadata": {
    "collapsed": true
   },
   "outputs": [],
   "source": [
    "from thermostate import State, Q_, units\n",
    "all_props = 'Tpvuhsx'"
   ]
  },
  {
   "cell_type": "code",
   "execution_count": null,
   "metadata": {
    "collapsed": false
   },
   "outputs": [],
   "source": [
    "st_1 = State('water')\n",
    "st_1.Tp = Q_(500, 'K'), Q_(101325, 'Pa')\n",
    "props = '|'.join(['{}={}'.format(prop, val) for ])\n",
    "print(st_1.T, st_1.p, st_1.v, st_1.u, st_1.h, st_1.s, st_1.x)"
   ]
  },
  {
   "cell_type": "code",
   "execution_count": null,
   "metadata": {
    "collapsed": false
   },
   "outputs": [],
   "source": [
    "st_2 = State('R134a', T=Q_(50., 'degC'), x=Q_(0.5, 'dimensionless'))\n",
    "print(st_2.T, st_2.p, st_2.v, st_2.u, st_2.h, st_2.s, st_2.x)"
   ]
  },
  {
   "cell_type": "code",
   "execution_count": null,
   "metadata": {
    "collapsed": false
   },
   "outputs": [],
   "source": [
    "st_3 = State('R22', h=400*units.kJ/units.kg, p=101325*units.Pa)\n",
    "print(st_3.T.to('degC'), st_3.p.to('bar'), st_3.v, st_3.u, st_3.h, st_3.s, st_3.x)"
   ]
  },
  {
   "cell_type": "code",
   "execution_count": null,
   "metadata": {
    "collapsed": true
   },
   "outputs": [],
   "source": []
  }
 ],
 "metadata": {
  "kernelspec": {
   "display_name": "Python 3",
   "language": "python",
   "name": "python3"
  },
  "language_info": {
   "codemirror_mode": {
    "name": "ipython",
    "version": 3
   },
   "file_extension": ".py",
   "mimetype": "text/x-python",
   "name": "python",
   "nbconvert_exporter": "python",
   "pygments_lexer": "ipython3",
   "version": "3.5.2"
  }
 },
 "nbformat": 4,
 "nbformat_minor": 2
}
