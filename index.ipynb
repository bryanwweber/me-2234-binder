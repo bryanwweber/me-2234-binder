{
 "cells": [
  {
   "cell_type": "markdown",
   "metadata": {},
   "source": [
    "This Binder has the tutorials for ME 2234: Applied Thermodynamics. In these tutorials, you will get an overview of Python and the ThermoState package we will use to evaluate thermodynamic properties."
   ]
  },
  {
   "cell_type": "markdown",
   "metadata": {},
   "source": [
    "# Table of Contents"
   ]
  },
  {
   "cell_type": "markdown",
   "metadata": {},
   "source": [
    "## Introduction to Python and Jupyter\n",
    "1. [Introduction to Python](Introduction to Python.ipynb)\n",
    "2. [Introduction to the Jupyter Notebook](Introduction to the Jupyter Notebook.ipynb)\n",
    "\n",
    "## Introduction to ThermoState\n",
    "3. [ThermoState Tutorial](ThermoState Tutorial.ipynb)\n",
    "\n",
    "## Intermediate Python\n",
    "4. [Lists, Tuples, and Sets](Lists, Tuples, and Sets.ipynb)\n",
    "5. [Strings and Dictionaries](Strings and Dictionaries.ipynb)\n",
    "6. [Control Flow Statements](Control Flow Statements.ipynb)\n",
    "8. [Debugging and Tests](Debugging and Tests.ipynb)\n",
    "\n",
    "## Advanced Python\n",
    "7. [Importing, Functions, and Namespaces](Importing, Functions, and Namespaces.ipynb)\n",
    "9. [Introduction to NumPy](Introduction to NumPy.ipynb)\n",
    "10. [Manipulating and Plotting Data](Manipulating and Plotting Data.ipynb)\n",
    "\n",
    "## Markdown/LaTeX\n",
    "11. [Markdown and LaTeX Cheatsheet](Markdown and LaTeX Cheatsheet.ipynb)"
   ]
  }
 ],
 "metadata": {
  "kernelspec": {
   "display_name": "Python 3",
   "language": "python",
   "name": "python3"
  },
  "language_info": {
   "codemirror_mode": {
    "name": "ipython",
    "version": 3
   },
   "file_extension": ".py",
   "mimetype": "text/x-python",
   "name": "python",
   "nbconvert_exporter": "python",
   "pygments_lexer": "ipython3",
   "version": "3.5.2"
  }
 },
 "nbformat": 4,
 "nbformat_minor": 2
}
