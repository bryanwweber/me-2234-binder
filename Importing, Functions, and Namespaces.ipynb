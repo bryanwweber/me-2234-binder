{
 "cells": [
  {
   "cell_type": "markdown",
   "metadata": {},
   "source": [
    "# Importing other useful libraries"
   ]
  },
  {
   "cell_type": "markdown",
   "metadata": {},
   "source": [
    "Not all of the code that we will find useful is included by default in Python. For the code that isn't included by default, we have to `import` the appropriate library. This is accomplished by an import statment that is typically located at the top of the file. Here, we are going to import the `math` library that contains a number of useful functions when working with more advance math. We will use it later on."
   ]
  },
  {
   "cell_type": "code",
   "execution_count": null,
   "metadata": {
    "collapsed": true
   },
   "outputs": [],
   "source": [
    "import math"
   ]
  },
  {
   "cell_type": "markdown",
   "metadata": {},
   "source": [
    "# Functions"
   ]
  },
  {
   "cell_type": "markdown",
   "metadata": {},
   "source": [
    "Functions are ways to encapsulate a set of commands and run them repeatedly, easily."
   ]
  },
  {
   "cell_type": "markdown",
   "metadata": {},
   "source": [
    "This is the basic syntax of a function"
   ]
  },
  {
   "cell_type": "markdown",
   "metadata": {},
   "source": [
    "    def funcname(arg1, arg2,..., argN):\n",
    "        '''Document String'''\n",
    "\n",
    "        statements\n",
    "\n",
    "        return <value>"
   ]
  },
  {
   "cell_type": "markdown",
   "metadata": {},
   "source": [
    "This definition contains several things. First, the `def` keyword indicates that the following lines will define a function. Following this is the name of the function. You should pick a descriptive name for your function, so that it is easy to tell what it does. Then, any arguments for the function are in parenthesis. The arguments are optional, but are potentially quite useful. The first line ends with a colon `:`.\n",
    "\n",
    "The next line (and all following lines until the end of the function) is indented by four spaces. This indicates to Python that everything that is indented should be executed when we execute the function. The actual text of the line starts with three quote characters `'''` to indicate that this is a paragraph-like string. The purpose of this string is to document what the function does, in plain English. This is very important so that you can keep track of what your function does.\n",
    "\n",
    "Following the **docstring** are program statements, which can include any of the statements we've talked about so far. Finally, the function ends by returning a value to whomever executed the function. The explicit return statement is optional.\n",
    "\n",
    "Let's create a function that will print messages for the user when it is executed. We could just print the messages every time we wanted them, but this might involve copying and pasting a lot of code, plus if we wanted to change any of the text, we would have to change it everywhere."
   ]
  },
  {
   "cell_type": "code",
   "execution_count": null,
   "metadata": {
    "collapsed": false
   },
   "outputs": [],
   "source": [
    "print(\"Hey Bryan!\")\n",
    "print(\"Bryan, How do you do?\")"
   ]
  },
  {
   "cell_type": "markdown",
   "metadata": {},
   "source": [
    "Instead of writing the print statements everywhere we want to print a message to the user, what if we defined a function instead?"
   ]
  },
  {
   "cell_type": "code",
   "execution_count": null,
   "metadata": {
    "collapsed": true
   },
   "outputs": [],
   "source": [
    "def print_message():\n",
    "    '''This function prints a message to Bryan.'''\n",
    "    print(\"Hey Bryan!\")\n",
    "    print(\"Bryan, How do you do?\")"
   ]
  },
  {
   "cell_type": "markdown",
   "metadata": {},
   "source": [
    "With the function defined, we can execute it by writing its name followed by an open and close parentheses."
   ]
  },
  {
   "cell_type": "code",
   "execution_count": null,
   "metadata": {
    "collapsed": false
   },
   "outputs": [],
   "source": [
    "print_message()"
   ]
  },
  {
   "cell_type": "markdown",
   "metadata": {},
   "source": [
    "Right now, `print_message` only addresses its message to one person - what if we want it to address a different person every time its called? We can define and use an argument to the function. Using an argument automatically defines a new variable inside the function with the same name as the argument, so that we can use it right away."
   ]
  },
  {
   "cell_type": "code",
   "execution_count": null,
   "metadata": {
    "collapsed": true
   },
   "outputs": [],
   "source": [
    "def print_username(username):\n",
    "    '''This function prints a message to the user.'''\n",
    "    print(\"Hey, \" + username + '!')\n",
    "    print(username + ', How do you do?')"
   ]
  },
  {
   "cell_type": "code",
   "execution_count": null,
   "metadata": {
    "collapsed": false
   },
   "outputs": [],
   "source": [
    "print_username('Guido')"
   ]
  },
  {
   "cell_type": "markdown",
   "metadata": {},
   "source": [
    "In fact, the `print` function is a special function that prints its argument onto the screen. There is another special function called `input` that accepts input from the user and returns the input so we can store it in a variable. `input` prints its argument to the screen as well, and then pauses to wait for input."
   ]
  },
  {
   "cell_type": "code",
   "execution_count": null,
   "metadata": {
    "collapsed": false
   },
   "outputs": [],
   "source": [
    "name = input(\"Please enter your name: \")"
   ]
  },
  {
   "cell_type": "markdown",
   "metadata": {},
   "source": [
    "Now we can use the variable `name` just like any other variable, including passing it into the `print_username` function."
   ]
  },
  {
   "cell_type": "code",
   "execution_count": null,
   "metadata": {
    "collapsed": false
   },
   "outputs": [],
   "source": [
    "print_username(name)"
   ]
  },
  {
   "cell_type": "markdown",
   "metadata": {},
   "source": [
    "## Return Statement"
   ]
  },
  {
   "cell_type": "markdown",
   "metadata": {},
   "source": [
    "When the function calculates a result that we want to send back to whomever called the function, we can use the `return` statement to send a variable out of the function. Here we will define a simple function that computes the sum of the squares of the arguments."
   ]
  },
  {
   "cell_type": "code",
   "execution_count": null,
   "metadata": {
    "collapsed": true
   },
   "outputs": [],
   "source": [
    "def sum_of_squares(x, y):\n",
    "    '''This function returns the sum of the squares of the arguments.'''\n",
    "    z = x**2 + y**2  # Compute the sum of squares and store it in variable z\n",
    "    return z  # Send the value that is stored in z back out of the function"
   ]
  },
  {
   "cell_type": "markdown",
   "metadata": {},
   "source": [
    "Now we can call our function and store the returned result in another variable."
   ]
  },
  {
   "cell_type": "code",
   "execution_count": null,
   "metadata": {
    "collapsed": false
   },
   "outputs": [],
   "source": [
    "c = sum_of_squares(4, 5)\n",
    "print(c)"
   ]
  },
  {
   "cell_type": "markdown",
   "metadata": {},
   "source": [
    "Note that the value that we assign the return to doesn't have to have the same name as the value that we returned. In fact, it can have any name we like (that's a valid variable name)."
   ]
  },
  {
   "cell_type": "markdown",
   "metadata": {},
   "source": [
    "Since the `sum_of_squares` function is now defined, we can print the docstring that we defined in case we need to figure out what the function does. The dosctring is printed when we call the `help` function and provide the name of our function as the argument."
   ]
  },
  {
   "cell_type": "code",
   "execution_count": null,
   "metadata": {
    "collapsed": false
   },
   "outputs": [],
   "source": [
    "help(sum_of_squares)"
   ]
  },
  {
   "cell_type": "markdown",
   "metadata": {},
   "source": [
    "In calling the function, we can supply the values either in the order that they're specified in the function definition, or we can explicitly state which goes to which."
   ]
  },
  {
   "cell_type": "code",
   "execution_count": null,
   "metadata": {
    "collapsed": false
   },
   "outputs": [],
   "source": [
    "a = sum_of_squares(4, 5)\n",
    "b = sum_of_squares(x=4, y=5)\n",
    "c = sum_of_squares(y=5, x=4)\n",
    "print(a, b, c)"
   ]
  },
  {
   "cell_type": "markdown",
   "metadata": {},
   "source": [
    "However, arguments that you specify using the keyword must com after any arguments where you're relying on the order."
   ]
  },
  {
   "cell_type": "code",
   "execution_count": null,
   "metadata": {
    "collapsed": false
   },
   "outputs": [],
   "source": [
    "d = sum_of_squares(4, y=5)  # This works, because y comes second\n",
    "e = sum_of_squares(4, x=5)  # This is an error"
   ]
  },
  {
   "cell_type": "markdown",
   "metadata": {},
   "source": [
    "## Default arguments"
   ]
  },
  {
   "cell_type": "markdown",
   "metadata": {},
   "source": [
    "We can set default values for any of the arguments in a function by setting them equal to something in the definition statement. This is typically useful when one of the values we want to use takes on the same value most of the time."
   ]
  },
  {
   "cell_type": "code",
   "execution_count": null,
   "metadata": {
    "collapsed": true
   },
   "outputs": [],
   "source": [
    "def cartesian_magnitude(x, y, z=0):\n",
    "    '''Compute the Cartesian magnitude sqrt(sum(squares)) of the vector whose components are given as arguments.\n",
    "    \n",
    "    If two arguments are supplied, the 2-d distance is computed. If 3 are\n",
    "    supplied, the 3-d distance is computed.\n",
    "    '''\n",
    "    z = math.sqrt(x**2 + y**2 + z**2)\n",
    "    return z"
   ]
  },
  {
   "cell_type": "markdown",
   "metadata": {},
   "source": [
    "Note that we have used the `math` library in this function definition. By default, Python does not have a square root function available. Therefore, we have to tell Python to look in the `math` library that we imported to find the square root function. We do this using the **dot-notation** - `math.sqrt(...)`."
   ]
  },
  {
   "cell_type": "markdown",
   "metadata": {},
   "source": [
    "Now if the third argument is not passed in when calling the `cartesian_distance` function then it is set equal to 0."
   ]
  },
  {
   "cell_type": "code",
   "execution_count": null,
   "metadata": {
    "collapsed": false
   },
   "outputs": [],
   "source": [
    "d_2d = cartesian_magnitude(3, 4)\n",
    "print(d_1)"
   ]
  },
  {
   "cell_type": "markdown",
   "metadata": {},
   "source": [
    "However, if the third argument is specified, it overwrites the default value."
   ]
  },
  {
   "cell_type": "code",
   "execution_count": null,
   "metadata": {
    "collapsed": false
   },
   "outputs": [],
   "source": [
    "d_3d = cartesian_magnitude(3, 4, 5)\n",
    "print(d_3d)"
   ]
  },
  {
   "cell_type": "markdown",
   "metadata": {},
   "source": [
    "## Python Namespaces"
   ]
  },
  {
   "cell_type": "markdown",
   "metadata": {},
   "source": [
    "In Python, namespaces refer to places that the interpreter tries to find where a variable has been defined. Let's consider the following example."
   ]
  },
  {
   "cell_type": "code",
   "execution_count": null,
   "metadata": {
    "collapsed": false
   },
   "outputs": [],
   "source": [
    "outside_1 = 'This is defined outside the function'\n",
    "def namespace_demo():\n",
    "    '''This function is a demonstration of namespaces in Python.'''\n",
    "    inside_1 = 'This is defined inside the function'\n",
    "    print(outside_1, 'and printed inside the function')\n",
    "    print(inside_1, 'and printed inside the function')\n",
    "\n",
    "namespace_demo()\n",
    "print(outside_1, 'and printed outside the function.')\n",
    "print(inside_1, 'and printed outside the function.')"
   ]
  },
  {
   "cell_type": "markdown",
   "metadata": {},
   "source": [
    "So Python can access variables defined outside the function when it is inside the function, but once it leaves the function, it cannot find variables defined only inside the function. The way Python looks up variables goes in the following order:\n",
    "\n",
    "1. If in a function, look for variables defined in the function, including any arguments that are specified\n",
    "2. Then look for variables defined outside the function, but not in external modules\n",
    "3. Only look in external modules (imported with the `import` statement) if the module is explicitly specified.\n",
    "\n",
    "This means that if you define a variable both outside a function and inside a function, when inside a function that value will be used, but it will not overwrite the value defined outside the function! Be careful with your variable names!"
   ]
  },
  {
   "cell_type": "code",
   "execution_count": null,
   "metadata": {
    "collapsed": false
   },
   "outputs": [],
   "source": [
    "dual_variable = 'This is defined outside the function'\n",
    "\n",
    "def namespace_demo_2():\n",
    "    '''Demonstrate the same variable name in a function'''\n",
    "    dual_variable = 'This is defined inside the function'\n",
    "    print(dual_variable, 'and printed inside the function.')\n",
    "    \n",
    "namespace_demo_2()\n",
    "print(dual_variable, 'and printed outside the function.')"
   ]
  }
 ],
 "metadata": {
  "kernelspec": {
   "display_name": "Python 3",
   "language": "python",
   "name": "python3"
  },
  "language_info": {
   "codemirror_mode": {
    "name": "ipython",
    "version": 3
   },
   "file_extension": ".py",
   "mimetype": "text/x-python",
   "name": "python",
   "nbconvert_exporter": "python",
   "pygments_lexer": "ipython3",
   "version": "3.5.2"
  }
 },
 "nbformat": 4,
 "nbformat_minor": 0
}
